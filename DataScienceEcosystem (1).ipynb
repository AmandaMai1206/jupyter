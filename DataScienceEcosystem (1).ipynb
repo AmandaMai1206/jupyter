{
 "cells": [
  {
   "cell_type": "markdown",
   "id": "56854a0c-699d-4470-aae8-558da8e4693d",
   "metadata": {},
   "source": [
    "Exercise 1: Create a new Jupyter notebook called DataScienceEcosystem.ipynb\n"
   ]
  },
  {
   "cell_type": "markdown",
   "id": "f10b0cb3-b8d3-4c8a-93aa-4abf2a2472a4",
   "metadata": {},
   "source": [
    "Exercise 2: Create markdown cell with title of the notebook\n",
    "# Data Science Tools and Ecosystem"
   ]
  },
  {
   "cell_type": "markdown",
   "id": "9be4e2e0-d695-4212-885b-3e2222912b3f",
   "metadata": {},
   "source": [
    "Exercise 2: Create markdown cell with title of the notebook\n",
    "# Data Science Tools and Ecosystem"
   ]
  },
  {
   "cell_type": "markdown",
   "id": "0bda03b2-a2c0-4933-ad74-f33ae0c85264",
   "metadata": {},
   "source": [
    "Exercise 3 - Create a markdown cell for an introduction\n",
    "In this notebook, Data Science Tools and Ecosystem are summarized.\n"
   ]
  },
  {
   "cell_type": "markdown",
   "id": "7fb61991-c3d4-40a6-8a59-6dfc024f10b8",
   "metadata": {},
   "source": [
    "Exercise 3 - Create a markdown cell for an introduction\n",
    "In this notebook, Data Science Tools and Ecosystem are summarized.\n"
   ]
  },
  {
   "cell_type": "markdown",
   "id": "310736b1-173d-408c-971f-8feefab48ed0",
   "metadata": {},
   "source": [
    "Exercise 10 - Insert a markdown cell to list Objectives\n",
    "\n",
    "**Objectives:**\n",
    "* List popular languages for Data Science\n",
    "* List development environment open source tools used in data science\n",
    "* List commonly used libraries in data science "
   ]
  },
  {
   "cell_type": "markdown",
   "id": "ee864c24-7445-416d-b53a-caf5cb7fcd85",
   "metadata": {},
   "source": [
    "Exercise 10 - Insert a markdown cell to list Objectives\n",
    "\n",
    "**Objectives:**\n",
    "* List popular languages for Data Science\n",
    "* List development environment open source tools used in data science\n",
    "* List commonly used libraries in data science "
   ]
  },
  {
   "cell_type": "markdown",
   "id": "7f694110-b93b-408c-80d7-d83cc4cf20ef",
   "metadata": {},
   "source": [
    "Exercise 4 - Create a markdown cell to list data science languages\n",
    "\n",
    "**Some of the popular languages that Data Scientists use are:**\n",
    "1. R\n",
    "2. Python\n",
    "3. SQL\n"
   ]
  },
  {
   "cell_type": "markdown",
   "id": "94c9ef28-fac2-4510-a660-6a0be7b83fbb",
   "metadata": {},
   "source": [
    "Exercise 4 - Create a markdown cell to list data science languages\n",
    "\n",
    "**Some of the popular languages that Data Scientists use are:**\n",
    "1. R\n",
    "2. Python\n",
    "3. SQL\n"
   ]
  },
  {
   "cell_type": "markdown",
   "id": "eab39229-d057-4b52-ae28-8b3dc90016f5",
   "metadata": {},
   "source": [
    "Exercise 5 Create a markdown cell to list data science libraries\n",
    "\n",
    "**Some of the commonly used libraries used by Data Scientists include:**\n",
    "1. Pandas\n",
    "2. Numpy\n",
    "3. TensorFlow\n"
   ]
  },
  {
   "cell_type": "markdown",
   "id": "f46db8a6-ae9f-4fc9-9100-b5fc824c9d39",
   "metadata": {},
   "source": [
    "Exercise 5 Create a markdown cell to list data science libraries\n",
    "\n",
    "**Some of the commonly used libraries used by Data Scientists include:**\n",
    "1. Pandas\n",
    "2. Numpy\n",
    "3. TensorFlow\n"
   ]
  },
  {
   "cell_type": "markdown",
   "id": "c74f6d64-4d11-48db-b43f-ad1b72099788",
   "metadata": {},
   "source": [
    "Exercise 6 Create a markdown cell with a table of Data Science tools\n",
    "|Data Science Tools|\n",
    "|---|\n",
    "|RStudio|\n",
    "|Jupyter Notebook|\n",
    "|VS Code|\n"
   ]
  },
  {
   "cell_type": "markdown",
   "id": "82db25a3-30ed-4f85-97f5-1c5f15f71aec",
   "metadata": {},
   "source": [
    "Exercise 6 Create a markdown cell with a table of Data Science tools\n",
    "|Data Science Tools|\n",
    "|---|\n",
    "|RStudio|\n",
    "|Jupyter Notebook|\n",
    "|VS Code|\n"
   ]
  },
  {
   "cell_type": "markdown",
   "id": "f2499938-cb4f-4bf4-a234-fa380d56d529",
   "metadata": {},
   "source": [
    "Exercise 7 Create a markdown cell introducing arithmetic expression examples\n",
    "### Below are a few examples of evaluating arithmetic expressions in Python\n"
   ]
  },
  {
   "cell_type": "markdown",
   "id": "ffced4f2-5169-4c8f-812d-0ecfa1aa850b",
   "metadata": {},
   "source": [
    "Exercise 7 Create a markdown cell introducing arithmetic expression examples\n",
    "### Below are a few examples of evaluating arithmetic expressions in Python\n"
   ]
  },
  {
   "cell_type": "code",
   "execution_count": null,
   "id": "0918d8e8-cd71-4cb4-9178-5449d9bf8b08",
   "metadata": {},
   "outputs": [],
   "source": [
    "Exercise 8 - Create a code cell to multiply and add numbers\n",
    "#This a simple arithmetic expression to mutiply then add integers"
   ]
  },
  {
   "cell_type": "code",
   "execution_count": 5,
   "id": "48f30b61-60cc-42e5-8496-d2cf44d5a95c",
   "metadata": {},
   "outputs": [
    {
     "data": {
      "text/plain": [
       "17"
      ]
     },
     "execution_count": 5,
     "metadata": {},
     "output_type": "execute_result"
    }
   ],
   "source": [
    "(3*4)+5"
   ]
  },
  {
   "cell_type": "code",
   "execution_count": null,
   "id": "853eb785-988b-4e30-bf8f-3d613effd7fc",
   "metadata": {},
   "outputs": [],
   "source": [
    "Exercise 9 - Create a code cell to convert minutes to hours\n",
    "# This will convert 200 minutes to hours by diving by 60"
   ]
  },
  {
   "cell_type": "code",
   "execution_count": 3,
   "id": "1d2d25c8-da5d-41a1-bdbb-09e51811a2e2",
   "metadata": {},
   "outputs": [
    {
     "name": "stdout",
     "output_type": "stream",
     "text": [
      "3.3333333333333335\n"
     ]
    }
   ],
   "source": [
    "\n",
    "hours = 200 / 60\n",
    "print (hours)"
   ]
  },
  {
   "cell_type": "markdown",
   "id": "78b201c6-1668-46a6-9f52-1f81552fd7f2",
   "metadata": {},
   "source": [
    "Exercise 11 - Create a markdown cell to indicate the Author's name\n",
    "## Author\n",
    "Amanda Mai"
   ]
  },
  {
   "cell_type": "markdown",
   "id": "4a59e1ef-c2ad-41d2-bc79-aaf5cdd55703",
   "metadata": {},
   "source": [
    "Exercise 11 - Create a markdown cell to indicate the Author's name\n",
    "## Author\n",
    "Amanda Mai"
   ]
  },
  {
   "cell_type": "code",
   "execution_count": null,
   "id": "cba0a547-b428-409a-8a5a-5e76c3ccb343",
   "metadata": {},
   "outputs": [],
   "source": []
  }
 ],
 "metadata": {
  "kernelspec": {
   "display_name": "Python 3 (ipykernel)",
   "language": "python",
   "name": "python3"
  },
  "language_info": {
   "codemirror_mode": {
    "name": "ipython",
    "version": 3
   },
   "file_extension": ".py",
   "mimetype": "text/x-python",
   "name": "python",
   "nbconvert_exporter": "python",
   "pygments_lexer": "ipython3",
   "version": "3.10.0"
  }
 },
 "nbformat": 4,
 "nbformat_minor": 5
}
